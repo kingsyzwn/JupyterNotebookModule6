{
 "cells": [
  {
   "cell_type": "markdown",
   "id": "fd56ced3-5cd9-4e33-b2cf-6047167aacca",
   "metadata": {},
   "source": [
    "# Data Science Tools and Ecosystem\n"
   ]
  },
  {
   "cell_type": "markdown",
   "id": "b2542e0a-d912-4c52-95d8-2eb2e9921179",
   "metadata": {},
   "source": [
    "## __Objectives__\n",
    "\n",
    "- Python\n",
    "- R\n",
    "- Java\n",
    "- Julia\n",
    "- Scala"
   ]
  },
  {
   "cell_type": "markdown",
   "id": "84fcb242-3484-4704-87a4-35c075edd170",
   "metadata": {},
   "source": [
    "## In this notebook, Data Science Tools and Ecosystem are summarized."
   ]
  },
  {
   "cell_type": "markdown",
   "id": "32be64d8-c8d4-4667-b048-b806f6d8b317",
   "metadata": {},
   "source": [
    "## Some of the popular languages that Data Scientists use are: \n",
    "1. Python\n",
    "2. R\n",
    "3. Java\n",
    "4. Julia\n",
    "5. Scala"
   ]
  },
  {
   "cell_type": "markdown",
   "id": "a197bf75-5226-4fd8-997b-dc5a5b02e7f0",
   "metadata": {},
   "source": [
    "## Some of the commonly used libraries used by Data Scientists include:\n",
    "\n",
    "1. NumPy: For numerical computing and working with arrays.\n",
    "2. Pandas: For data manipulation, analysis, and working with structured data (like DataFrames).\n",
    "3. Matplotlib and Seaborn: For data visualization.\n",
    "4. Scikit-learn: For machine learning tasks.\n",
    "5. TensorFlow and PyTorch: For deep learning.\n",
    "6. SciPy: For scientific and technical computing.\n",
    "7. Beautiful Soup and Scrapy: For web scraping.\n",
    "8. Keras: A high-level API for building and training neural networks.\n",
    "9. Statsmodels: For statistical modeling and analysis.\n",
    "10. NLTK and SpaCy: For natural language processing."
   ]
  },
  {
   "cell_type": "markdown",
   "id": "04dfaebe-4427-4264-aeba-1992d9c2c09c",
   "metadata": {},
   "source": [
    "| Data Science Tools |\n",
    "|----------|\n",
    "| Jupyter Notebook | \n",
    "| Rstudio |\n",
    "| VS Code |\n",
    "\n"
   ]
  },
  {
   "cell_type": "markdown",
   "id": "5fccb809-e6b9-4c12-8c67-cb41507cf720",
   "metadata": {},
   "source": [
    "### Below are a few examples of evaluating arithmetic expressions in Python \n"
   ]
  },
  {
   "cell_type": "code",
   "execution_count": 3,
   "id": "7ee6022f-c9ac-445e-a899-cc1d9595e7a1",
   "metadata": {},
   "outputs": [
    {
     "data": {
      "text/plain": [
       "17"
      ]
     },
     "execution_count": 3,
     "metadata": {},
     "output_type": "execute_result"
    }
   ],
   "source": [
    "# This a simple arithmetic expression to mutiply then add integers\n",
    "(3*4)+5"
   ]
  },
  {
   "cell_type": "code",
   "execution_count": 4,
   "id": "e7144e2b-a43c-4ec5-84ec-a8d15a2cdf73",
   "metadata": {},
   "outputs": [
    {
     "data": {
      "text/plain": [
       "3.3333333333333335"
      ]
     },
     "execution_count": 4,
     "metadata": {},
     "output_type": "execute_result"
    }
   ],
   "source": [
    "# This will convert 200 minutes to hours by diving by 60\n",
    "200/60"
   ]
  },
  {
   "cell_type": "markdown",
   "id": "21c7dff0-df77-413f-af3f-bc238daf182c",
   "metadata": {},
   "source": [
    "## Author\n",
    "Ahmad Syazwan"
   ]
  },
  {
   "cell_type": "code",
   "execution_count": null,
   "id": "fe1b5df8-103a-4fb9-82d1-0dfcfb53922f",
   "metadata": {},
   "outputs": [],
   "source": []
  }
 ],
 "metadata": {
  "kernelspec": {
   "display_name": "Python 3 (ipykernel)",
   "language": "python",
   "name": "python3"
  },
  "language_info": {
   "codemirror_mode": {
    "name": "ipython",
    "version": 3
   },
   "file_extension": ".py",
   "mimetype": "text/x-python",
   "name": "python",
   "nbconvert_exporter": "python",
   "pygments_lexer": "ipython3",
   "version": "3.13.5"
  }
 },
 "nbformat": 4,
 "nbformat_minor": 5
}
